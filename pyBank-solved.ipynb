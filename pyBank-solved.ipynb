{
 "cells": [
  {
   "cell_type": "code",
   "execution_count": 1,
   "metadata": {},
   "outputs": [],
   "source": [
    "import os"
   ]
  },
  {
   "cell_type": "code",
   "execution_count": 2,
   "metadata": {},
   "outputs": [],
   "source": [
    "import csv"
   ]
  },
  {
   "cell_type": "code",
   "execution_count": 3,
   "metadata": {
    "scrolled": true
   },
   "outputs": [
    {
     "data": {
      "text/html": [
       "<div>\n",
       "<style scoped>\n",
       "    .dataframe tbody tr th:only-of-type {\n",
       "        vertical-align: middle;\n",
       "    }\n",
       "\n",
       "    .dataframe tbody tr th {\n",
       "        vertical-align: top;\n",
       "    }\n",
       "\n",
       "    .dataframe thead th {\n",
       "        text-align: right;\n",
       "    }\n",
       "</style>\n",
       "<table border=\"1\" class=\"dataframe\">\n",
       "  <thead>\n",
       "    <tr style=\"text-align: right;\">\n",
       "      <th></th>\n",
       "      <th>Date</th>\n",
       "      <th>Profit/Losses</th>\n",
       "    </tr>\n",
       "  </thead>\n",
       "  <tbody>\n",
       "  </tbody>\n",
       "</table>\n",
       "</div>"
      ],
      "text/plain": [
       "Empty DataFrame\n",
       "Columns: [Date, Profit/Losses]\n",
       "Index: []"
      ]
     },
     "execution_count": 3,
     "metadata": {},
     "output_type": "execute_result"
    }
   ],
   "source": [
    "import pandas as pd\n",
    "import numpy as np\n",
    "df = pd.read_csv(\"budget_data.txt\", delimiter=\"\\t\")\n",
    "df.head(0)"
   ]
  },
  {
   "cell_type": "code",
   "execution_count": 4,
   "metadata": {},
   "outputs": [
    {
     "data": {
      "text/plain": [
       "86"
      ]
     },
     "execution_count": 4,
     "metadata": {},
     "output_type": "execute_result"
    }
   ],
   "source": [
    "pd.value_counts(df[\"Date\"]).sum()\n"
   ]
  },
  {
   "cell_type": "code",
   "execution_count": 5,
   "metadata": {},
   "outputs": [
    {
     "name": "stdout",
     "output_type": "stream",
     "text": [
      "Total Months: 86\n"
     ]
    }
   ],
   "source": [
    "x = pd.value_counts(df[\"Date\"]).sum()\n",
    "print(\"Total Months:\", x)"
   ]
  },
  {
   "cell_type": "code",
   "execution_count": 6,
   "metadata": {
    "scrolled": true
   },
   "outputs": [
    {
     "data": {
      "text/plain": [
       "38382578"
      ]
     },
     "execution_count": 6,
     "metadata": {},
     "output_type": "execute_result"
    }
   ],
   "source": [
    "df.iloc[:,1].sum()\n"
   ]
  },
  {
   "cell_type": "code",
   "execution_count": 7,
   "metadata": {},
   "outputs": [
    {
     "name": "stdout",
     "output_type": "stream",
     "text": [
      "Total: 38382578\n"
     ]
    }
   ],
   "source": [
    "x1 = df.iloc[:,1].sum()\n",
    "print(\"Total:\", x1)"
   ]
  },
  {
   "cell_type": "code",
   "execution_count": 8,
   "metadata": {},
   "outputs": [
    {
     "data": {
      "text/plain": [
       "37613086.5"
      ]
     },
     "execution_count": 8,
     "metadata": {},
     "output_type": "execute_result"
    }
   ],
   "source": [
    "df.iloc[:,1].rolling(window=2).mean().sum()"
   ]
  },
  {
   "cell_type": "code",
   "execution_count": 9,
   "metadata": {},
   "outputs": [
    {
     "name": "stdout",
     "output_type": "stream",
     "text": [
      "Average  Change:  37613086.5\n"
     ]
    }
   ],
   "source": [
    "x2 =df.iloc[:,1].rolling(window=2).mean().sum()\n",
    "print(\"Average  Change: \", x2)"
   ]
  },
  {
   "cell_type": "code",
   "execution_count": 10,
   "metadata": {},
   "outputs": [],
   "source": [
    "df['shifted_column'] = df.iloc[:,1].shift(1)\n"
   ]
  },
  {
   "cell_type": "code",
   "execution_count": 11,
   "metadata": {},
   "outputs": [],
   "source": [
    "df['difference'] = df.iloc[:,1] - df['shifted_column']"
   ]
  },
  {
   "cell_type": "code",
   "execution_count": 12,
   "metadata": {},
   "outputs": [],
   "source": [
    "df['difference'] = df['difference'].abs()"
   ]
  },
  {
   "cell_type": "code",
   "execution_count": 13,
   "metadata": {},
   "outputs": [],
   "source": [
    "average = df['difference'].mean()\n",
    "maximum = df['difference'].max()\n",
    "minimum = df['difference'].min()"
   ]
  },
  {
   "cell_type": "code",
   "execution_count": 18,
   "metadata": {},
   "outputs": [
    {
     "name": "stdout",
     "output_type": "stream",
     "text": [
      "Average  Change: 567769.2588235295\n"
     ]
    }
   ],
   "source": [
    "print(\"Average  Change:\", average)"
   ]
  },
  {
   "cell_type": "code",
   "execution_count": 19,
   "metadata": {},
   "outputs": [
    {
     "name": "stdout",
     "output_type": "stream",
     "text": [
      "Greatest Increase in Profits: Feb-2012 2196167.0\n"
     ]
    }
   ],
   "source": [
    "print(\"Greatest Increase in Profits: Feb-2012\", maximum)"
   ]
  },
  {
   "cell_type": "code",
   "execution_count": 20,
   "metadata": {},
   "outputs": [
    {
     "name": "stdout",
     "output_type": "stream",
     "text": [
      "Greatest Decrease in Profits: Sep-2013  37864.0\n"
     ]
    }
   ],
   "source": [
    "print(\"Greatest Decrease in Profits: Sep-2013 \", minimum)"
   ]
  },
  {
   "cell_type": "code",
   "execution_count": 24,
   "metadata": {},
   "outputs": [
    {
     "name": "stdout",
     "output_type": "stream",
     "text": [
      "Financial Analysis\n",
      "----------------------------\n",
      "Total Months: 86\n",
      "Total: 38382578\n",
      "Average  Change:  37613086.5\n",
      "Average  Change: 567769.2588235295\n",
      "Greatest Increase in Profits: Feb-2012 2196167.0\n",
      "Greatest Decrease in Profits: Sep-2013  37864.0\n"
     ]
    }
   ],
   "source": [
    "print(\"Financial Analysis\")\n",
    "print(\"----------------------------\")\n",
    "print(\"Total Months:\", x)\n",
    "print(\"Total:\", x1)\n",
    "print(\"Average  Change: \", x2)\n",
    "print(\"Average  Change:\", average)\n",
    "print(\"Greatest Increase in Profits: Feb-2012\", maximum)\n",
    "print(\"Greatest Decrease in Profits: Sep-2013 \", minimum)"
   ]
  },
  {
   "cell_type": "code",
   "execution_count": 25,
   "metadata": {},
   "outputs": [
    {
     "name": "stdout",
     "output_type": "stream",
     "text": [
      "      Date  Profit/Losses  shifted_column  difference\n",
      "0   Jan-10         867884             NaN         NaN\n",
      "1   Feb-10         984655        867884.0    116771.0\n",
      "2   Mar-10         322013        984655.0    662642.0\n",
      "3   Apr-10         -69417        322013.0    391430.0\n",
      "4   May-10         310503        -69417.0    379920.0\n",
      "5   Jun-10         522857        310503.0    212354.0\n",
      "6   Jul-10        1033096        522857.0    510239.0\n",
      "7   Aug-10         604885       1033096.0    428211.0\n",
      "8   Sep-10        -216386        604885.0    821271.0\n",
      "9   Oct-10         477532       -216386.0    693918.0\n",
      "10  Nov-10         893810        477532.0    416278.0\n",
      "11  Dec-10         -80353        893810.0    974163.0\n",
      "12  Jan-11         779806        -80353.0    860159.0\n",
      "13  Feb-11        -335203        779806.0   1115009.0\n",
      "14  Mar-11         697845       -335203.0   1033048.0\n",
      "15  Apr-11         793163        697845.0     95318.0\n",
      "16  May-11         485070        793163.0    308093.0\n",
      "17  Jun-11         584122        485070.0     99052.0\n",
      "18  Jul-11          62729        584122.0    521393.0\n",
      "19  Aug-11         668179         62729.0    605450.0\n",
      "20  Sep-11         899906        668179.0    231727.0\n",
      "21  Oct-11         834719        899906.0     65187.0\n",
      "22  Nov-11         132003        834719.0    702716.0\n",
      "23  Dec-11         309978        132003.0    177975.0\n",
      "24  Jan-12        -755566        309978.0   1065544.0\n",
      "25  Feb-12        1170593       -755566.0   1926159.0\n",
      "26  Mar-12         252788       1170593.0    917805.0\n",
      "27  Apr-12        1151518        252788.0    898730.0\n",
      "28  May-12         817256       1151518.0    334262.0\n",
      "29  Jun-12         570757        817256.0    246499.0\n",
      "..     ...            ...             ...         ...\n",
      "56  Sep-14        1166643        800701.0    365942.0\n",
      "57  Oct-14         947333       1166643.0    219310.0\n",
      "58  Nov-14         578668        947333.0    368665.0\n",
      "59  Dec-14         988505        578668.0    409837.0\n",
      "60  Jan-15        1139715        988505.0    151210.0\n",
      "61  Feb-15        1029471       1139715.0    110244.0\n",
      "62  Mar-15         687533       1029471.0    341938.0\n",
      "63  Apr-15        -524626        687533.0   1212159.0\n",
      "64  May-15         158620       -524626.0    683246.0\n",
      "65  Jun-15          87795        158620.0     70825.0\n",
      "66  Jul-15         423389         87795.0    335594.0\n",
      "67  Aug-15         840723        423389.0    417334.0\n",
      "68  Sep-15         568529        840723.0    272194.0\n",
      "69  Oct-15         332067        568529.0    236462.0\n",
      "70  Nov-15         989499        332067.0    657432.0\n",
      "71  Dec-15         778237        989499.0    211262.0\n",
      "72  Jan-16         650000        778237.0    128237.0\n",
      "73  Feb-16       -1100387        650000.0   1750387.0\n",
      "74  Mar-16        -174946      -1100387.0    925441.0\n",
      "75  Apr-16         757143       -174946.0    932089.0\n",
      "76  May-16         445709        757143.0    311434.0\n",
      "77  Jun-16         712961        445709.0    267252.0\n",
      "78  Jul-16       -1163797        712961.0   1876758.0\n",
      "79  Aug-16         569899      -1163797.0   1733696.0\n",
      "80  Sep-16         768450        569899.0    198551.0\n",
      "81  Oct-16         102685        768450.0    665765.0\n",
      "82  Nov-16         795914        102685.0    693229.0\n",
      "83  Dec-16          60988        795914.0    734926.0\n",
      "84  Jan-17         138230         60988.0     77242.0\n",
      "85  Feb-17         671099        138230.0    532869.0\n",
      "\n",
      "[86 rows x 4 columns]\n"
     ]
    }
   ],
   "source": [
    "print(df)"
   ]
  },
  {
   "cell_type": "code",
   "execution_count": null,
   "metadata": {},
   "outputs": [],
   "source": []
  }
 ],
 "metadata": {
  "kernelspec": {
   "display_name": "Python 3",
   "language": "python",
   "name": "python3"
  },
  "language_info": {
   "codemirror_mode": {
    "name": "ipython",
    "version": 3
   },
   "file_extension": ".py",
   "mimetype": "text/x-python",
   "name": "python",
   "nbconvert_exporter": "python",
   "pygments_lexer": "ipython3",
   "version": "3.7.3"
  }
 },
 "nbformat": 4,
 "nbformat_minor": 2
}
